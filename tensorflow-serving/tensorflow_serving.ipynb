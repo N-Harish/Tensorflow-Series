{
  "nbformat": 4,
  "nbformat_minor": 0,
  "metadata": {
    "colab": {
      "name": "tensorflow-serving.ipynb",
      "provenance": [],
      "private_outputs": true,
      "collapsed_sections": [],
      "toc_visible": true
    },
    "kernelspec": {
      "name": "python3",
      "display_name": "Python 3"
    },
    "accelerator": "GPU"
  },
  "cells": [
    {
      "cell_type": "code",
      "metadata": {
        "id": "bJwcmQkZ6sQo",
        "colab_type": "code",
        "colab": {}
      },
      "source": [
        "import sys\n",
        "\n",
        "# Confirm that we're using Python 3\n",
        "assert sys.version_info.major is 3, 'Oops, not running Python 3. Use Runtime > Change runtime type'"
      ],
      "execution_count": 0,
      "outputs": []
    },
    {
      "cell_type": "code",
      "metadata": {
        "id": "mShYSZJoLssw",
        "colab_type": "code",
        "colab": {}
      },
      "source": [
        "# TensorFlow and tf.keras\n",
        "print(\"Installing dependencies for Colab environment\")\n",
        "!pip install -Uq grpcio==1.26.0\n",
        "\n",
        "print('Installing TensorFlow')\n",
        "import tensorflow as tf\n",
        "from tensorflow import keras\n",
        "\n",
        "# Helper libraries\n",
        "import numpy as np\n",
        "import matplotlib.pyplot as plt\n",
        "import os\n",
        "import subprocess\n",
        "\n",
        "# print('TensorFlow version: {}'.format(tf.__version__))\n",
        "# tf.compat.v1.enable_eager_execution()"
      ],
      "execution_count": 0,
      "outputs": []
    },
    {
      "cell_type": "code",
      "metadata": {
        "id": "OWmVkee9GYES",
        "colab_type": "code",
        "colab": {}
      },
      "source": [
        "# Vars\n",
        "\n",
        "VERSION = '1'"
      ],
      "execution_count": 0,
      "outputs": []
    },
    {
      "cell_type": "code",
      "metadata": {
        "id": "IotKEXyHNU-X",
        "colab_type": "code",
        "colab": {}
      },
      "source": [
        "fashion_mnist = keras.datasets.fashion_mnist\n",
        "(train_images, train_labels), (test_images, test_labels) = fashion_mnist.load_data()\n",
        "\n",
        "# saving a test image for endpoint prediction\n",
        "test_image_ep = test_images[0]\n",
        "test_label_ep = test_labels[0]\n",
        "\n",
        "# scale the values to 0.0 to 1.0\n",
        "train_images = train_images / 255.0\n",
        "test_images = test_images / 255.0\n",
        "\n",
        "# reshape for feeding into the model\n",
        "train_images = train_images.reshape(train_images.shape[0], 28, 28, 1)\n",
        "test_images = test_images.reshape(test_images.shape[0], 28, 28, 1)\n",
        "\n",
        "class_names = ['T-shirt/top', 'Trouser', 'Pullover', 'Dress', 'Coat',\n",
        "               'Sandal', 'Shirt', 'Sneaker', 'Bag', 'Ankle boot']\n",
        "\n",
        "print('\\ntrain_images.shape: {}, of {}'.format(train_images.shape, train_images.dtype))\n",
        "print('test_images.shape: {}, of {}'.format(test_images.shape, test_images.dtype))"
      ],
      "execution_count": 0,
      "outputs": []
    },
    {
      "cell_type": "code",
      "metadata": {
        "id": "EAL7dRv6NYab",
        "colab_type": "code",
        "colab": {}
      },
      "source": [
        "model = keras.Sequential([\n",
        "  keras.layers.Conv2D(input_shape=(28,28,1), filters=8, kernel_size=3, \n",
        "                      strides=2, activation='relu', name='Conv1'),\n",
        "  keras.layers.Flatten(),\n",
        "  keras.layers.Dense(10, activation=tf.nn.softmax, name='Softmax')\n",
        "])\n",
        "model.summary()\n",
        "\n",
        "testing = False\n",
        "epochs = 15\n",
        "\n",
        "model.compile(optimizer='adam', \n",
        "              loss='sparse_categorical_crossentropy',\n",
        "              metrics=['accuracy'])\n",
        "model.fit(train_images, train_labels, epochs=epochs)\n",
        "\n",
        "test_loss, test_acc = model.evaluate(test_images, test_labels)\n",
        "print('\\nTest accuracy: {}'.format(test_acc))"
      ],
      "execution_count": 0,
      "outputs": []
    },
    {
      "cell_type": "code",
      "metadata": {
        "id": "UZcwUJKo3ab4",
        "colab_type": "code",
        "colab": {}
      },
      "source": [
        "saved_model_path = model.save(f\"./tmp/{VERSION}\", save_format='tf')"
      ],
      "execution_count": 0,
      "outputs": []
    },
    {
      "cell_type": "code",
      "metadata": {
        "id": "t-o62tkkLAxE",
        "colab_type": "code",
        "colab": {}
      },
      "source": [
        "import subprocess\n",
        "\n",
        "subprocess.run([f\"tar cvfz model.tar.gz tmp/{VERSION}/\", \"\"],shell=True)"
      ],
      "execution_count": 0,
      "outputs": []
    },
    {
      "cell_type": "code",
      "metadata": {
        "id": "DNUipMAcMTE0",
        "colab_type": "code",
        "colab": {}
      },
      "source": [
        "from google.colab import files\n",
        "files.download('model.tar.gz') "
      ],
      "execution_count": 0,
      "outputs": []
    },
    {
      "cell_type": "code",
      "metadata": {
        "id": "3x-trx6GQXpQ",
        "colab_type": "code",
        "colab": {}
      },
      "source": [
        "!saved_model_cli show --dir /content/tmp/{VERSION}/ --all"
      ],
      "execution_count": 0,
      "outputs": []
    },
    {
      "cell_type": "markdown",
      "metadata": {
        "id": "V-m3eFcv95Wr",
        "colab_type": "text"
      },
      "source": [
        "## Some Pre-processing on image to get the prediction from endpoint"
      ]
    },
    {
      "cell_type": "code",
      "metadata": {
        "id": "zo7H_QCv-Ki4",
        "colab_type": "code",
        "colab": {}
      },
      "source": [
        "import json\n",
        "import pandas as pd\n",
        "pd.set_option('display.max_colwidth',1000)\n",
        "\n",
        "# for record in immg:\n",
        "#   all_values = record.split(',')\n",
        "#   print (all_values)\n",
        "         \n",
        "# scale the values to 0.0 to 1.0\n",
        "test_image_ep = test_image_ep / 255.0\n",
        "\n",
        "# reshape for feeding into the model\n",
        "test_image_ep = test_image_ep.reshape(1,28, 28, 1)\n",
        "\n",
        "\n",
        "print (test_image_ep.tolist())\n",
        "print (test_label_ep)\n",
        "print('test_images.shape: {}, of {}'.format(test_image_ep.shape, test_image_ep.dtype))"
      ],
      "execution_count": 0,
      "outputs": []
    },
    {
      "cell_type": "code",
      "metadata": {
        "id": "_oHq0oSIqm_l",
        "colab_type": "code",
        "colab": {}
      },
      "source": [
        "# Wrap bitstring in JSON\n",
        "\n",
        "data = json.dumps({\"signature_name\": \"serving_default\", \"instances\": test_image_ep.tolist()})\n",
        "print(data)\n",
        "\n",
        "with open('predict.json', 'w') as f:\n",
        "  f.write(y.decode('utf-8'))"
      ],
      "execution_count": 0,
      "outputs": []
    }
  ]
}